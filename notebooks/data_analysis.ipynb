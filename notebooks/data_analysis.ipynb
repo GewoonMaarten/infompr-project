{
 "cells": [
  {
   "cell_type": "code",
   "execution_count": 19,
   "metadata": {},
   "outputs": [],
   "source": [
    "import pandas as pd\n",
    "from pathlib import Path\n",
    "from PIL import Image\n",
    "from tqdm import tqdm\n",
    "\n",
    "import seaborn as sns\n",
    "import matplotlib.pyplot as plt\n",
    "\n",
    "from utils.config import (\n",
    "    dataset_test_path,\n",
    "    dataset_train_path,\n",
    "    dataset_validate_path,\n",
    "    dataset_images_path)\n",
    "\n",
    "sns.set_theme(style=\"darkgrid\")\n",
    "pd.options.display.float_format = '{:20,.2f}'.format\n",
    "\n",
    "%matplotlib inline"
   ]
  },
  {
   "cell_type": "markdown",
   "metadata": {},
   "source": [
    "# Data Analysis"
   ]
  },
  {
   "cell_type": "code",
   "execution_count": 2,
   "metadata": {},
   "outputs": [
    {
     "data": {
      "text/html": [
       "<div>\n",
       "<style scoped>\n",
       "    .dataframe tbody tr th:only-of-type {\n",
       "        vertical-align: middle;\n",
       "    }\n",
       "\n",
       "    .dataframe tbody tr th {\n",
       "        vertical-align: top;\n",
       "    }\n",
       "\n",
       "    .dataframe thead th {\n",
       "        text-align: right;\n",
       "    }\n",
       "</style>\n",
       "<table border=\"1\" class=\"dataframe\">\n",
       "  <thead>\n",
       "    <tr style=\"text-align: right;\">\n",
       "      <th></th>\n",
       "      <th>author</th>\n",
       "      <th>clean_title</th>\n",
       "      <th>created_utc</th>\n",
       "      <th>domain</th>\n",
       "      <th>hasImage</th>\n",
       "      <th>id</th>\n",
       "      <th>image_url</th>\n",
       "      <th>linked_submission_id</th>\n",
       "      <th>num_comments</th>\n",
       "      <th>score</th>\n",
       "      <th>subreddit</th>\n",
       "      <th>title</th>\n",
       "      <th>upvote_ratio</th>\n",
       "      <th>2_way_label</th>\n",
       "      <th>3_way_label</th>\n",
       "      <th>6_way_label</th>\n",
       "    </tr>\n",
       "  </thead>\n",
       "  <tbody>\n",
       "    <tr>\n",
       "      <th>0</th>\n",
       "      <td>Alexithymia</td>\n",
       "      <td>my walgreens offbrand mucinex was engraved wit...</td>\n",
       "      <td>1.551641e+09</td>\n",
       "      <td>i.imgur.com</td>\n",
       "      <td>True</td>\n",
       "      <td>awxhir</td>\n",
       "      <td>https://external-preview.redd.it/WylDbZrnbvZdB...</td>\n",
       "      <td>NaN</td>\n",
       "      <td>2.0</td>\n",
       "      <td>12</td>\n",
       "      <td>mildlyinteresting</td>\n",
       "      <td>My Walgreens offbrand Mucinex was engraved wit...</td>\n",
       "      <td>0.84</td>\n",
       "      <td>1</td>\n",
       "      <td>0</td>\n",
       "      <td>0</td>\n",
       "    </tr>\n",
       "    <tr>\n",
       "      <th>1</th>\n",
       "      <td>VIDCAs17</td>\n",
       "      <td>this concerned sink with a tiny hat</td>\n",
       "      <td>1.534727e+09</td>\n",
       "      <td>i.redd.it</td>\n",
       "      <td>True</td>\n",
       "      <td>98pbid</td>\n",
       "      <td>https://preview.redd.it/wsfx0gp0f5h11.jpg?widt...</td>\n",
       "      <td>NaN</td>\n",
       "      <td>2.0</td>\n",
       "      <td>119</td>\n",
       "      <td>pareidolia</td>\n",
       "      <td>This concerned sink with a tiny hat</td>\n",
       "      <td>0.99</td>\n",
       "      <td>0</td>\n",
       "      <td>2</td>\n",
       "      <td>2</td>\n",
       "    </tr>\n",
       "    <tr>\n",
       "      <th>2</th>\n",
       "      <td>prometheus1123</td>\n",
       "      <td>hackers leak emails from uae ambassador to us</td>\n",
       "      <td>1.496511e+09</td>\n",
       "      <td>aljazeera.com</td>\n",
       "      <td>True</td>\n",
       "      <td>6f2cy5</td>\n",
       "      <td>https://external-preview.redd.it/6fNhdbc6K1vFA...</td>\n",
       "      <td>NaN</td>\n",
       "      <td>1.0</td>\n",
       "      <td>44</td>\n",
       "      <td>neutralnews</td>\n",
       "      <td>Hackers leak emails from UAE ambassador to US</td>\n",
       "      <td>0.92</td>\n",
       "      <td>1</td>\n",
       "      <td>0</td>\n",
       "      <td>0</td>\n",
       "    </tr>\n",
       "    <tr>\n",
       "      <th>3</th>\n",
       "      <td>NaN</td>\n",
       "      <td>puppy taking in the view</td>\n",
       "      <td>1.471341e+09</td>\n",
       "      <td>i.imgur.com</td>\n",
       "      <td>True</td>\n",
       "      <td>4xypkv</td>\n",
       "      <td>https://external-preview.redd.it/HLtVNhTR6wtYt...</td>\n",
       "      <td>NaN</td>\n",
       "      <td>26.0</td>\n",
       "      <td>250</td>\n",
       "      <td>photoshopbattles</td>\n",
       "      <td>PsBattle: Puppy taking in the view</td>\n",
       "      <td>0.95</td>\n",
       "      <td>1</td>\n",
       "      <td>0</td>\n",
       "      <td>0</td>\n",
       "    </tr>\n",
       "    <tr>\n",
       "      <th>4</th>\n",
       "      <td>3rikR3ith</td>\n",
       "      <td>i found a face in my sheet music too</td>\n",
       "      <td>1.525318e+09</td>\n",
       "      <td>i.redd.it</td>\n",
       "      <td>True</td>\n",
       "      <td>8gnet9</td>\n",
       "      <td>https://preview.redd.it/ri7ut2wn8kv01.jpg?widt...</td>\n",
       "      <td>NaN</td>\n",
       "      <td>2.0</td>\n",
       "      <td>13</td>\n",
       "      <td>pareidolia</td>\n",
       "      <td>I found a face in my sheet music too!</td>\n",
       "      <td>0.84</td>\n",
       "      <td>0</td>\n",
       "      <td>2</td>\n",
       "      <td>2</td>\n",
       "    </tr>\n",
       "  </tbody>\n",
       "</table>\n",
       "</div>"
      ],
      "text/plain": [
       "           author                                        clean_title  \\\n",
       "0     Alexithymia  my walgreens offbrand mucinex was engraved wit...   \n",
       "1        VIDCAs17                this concerned sink with a tiny hat   \n",
       "2  prometheus1123      hackers leak emails from uae ambassador to us   \n",
       "3             NaN                           puppy taking in the view   \n",
       "4       3rikR3ith               i found a face in my sheet music too   \n",
       "\n",
       "    created_utc         domain  hasImage      id  \\\n",
       "0  1.551641e+09    i.imgur.com      True  awxhir   \n",
       "1  1.534727e+09      i.redd.it      True  98pbid   \n",
       "2  1.496511e+09  aljazeera.com      True  6f2cy5   \n",
       "3  1.471341e+09    i.imgur.com      True  4xypkv   \n",
       "4  1.525318e+09      i.redd.it      True  8gnet9   \n",
       "\n",
       "                                           image_url linked_submission_id  \\\n",
       "0  https://external-preview.redd.it/WylDbZrnbvZdB...                  NaN   \n",
       "1  https://preview.redd.it/wsfx0gp0f5h11.jpg?widt...                  NaN   \n",
       "2  https://external-preview.redd.it/6fNhdbc6K1vFA...                  NaN   \n",
       "3  https://external-preview.redd.it/HLtVNhTR6wtYt...                  NaN   \n",
       "4  https://preview.redd.it/ri7ut2wn8kv01.jpg?widt...                  NaN   \n",
       "\n",
       "   num_comments  score          subreddit  \\\n",
       "0           2.0     12  mildlyinteresting   \n",
       "1           2.0    119         pareidolia   \n",
       "2           1.0     44        neutralnews   \n",
       "3          26.0    250   photoshopbattles   \n",
       "4           2.0     13         pareidolia   \n",
       "\n",
       "                                               title  upvote_ratio  \\\n",
       "0  My Walgreens offbrand Mucinex was engraved wit...          0.84   \n",
       "1                This concerned sink with a tiny hat          0.99   \n",
       "2      Hackers leak emails from UAE ambassador to US          0.92   \n",
       "3                 PsBattle: Puppy taking in the view          0.95   \n",
       "4              I found a face in my sheet music too!          0.84   \n",
       "\n",
       "   2_way_label  3_way_label  6_way_label  \n",
       "0            1            0            0  \n",
       "1            0            2            2  \n",
       "2            1            0            0  \n",
       "3            1            0            0  \n",
       "4            0            2            2  "
      ]
     },
     "execution_count": 2,
     "metadata": {},
     "output_type": "execute_result"
    }
   ],
   "source": [
    "test_df = pd.read_csv(dataset_test_path, sep='\\t', header=0)\n",
    "train_df = pd.read_csv(dataset_train_path, sep='\\t', header=0)\n",
    "validate_df = pd.read_csv(dataset_validate_path, sep='\\t', header=0)\n",
    "\n",
    "train_df.head()"
   ]
  },
  {
   "cell_type": "markdown",
   "metadata": {},
   "source": [
    "Convert the label columns from int64 to category."
   ]
  },
  {
   "cell_type": "code",
   "execution_count": 3,
   "metadata": {},
   "outputs": [
    {
     "name": "stdout",
     "output_type": "stream",
     "text": [
      "<class 'pandas.core.frame.DataFrame'>\n",
      "RangeIndex: 563613 entries, 0 to 563612\n",
      "Data columns (total 16 columns):\n",
      " #   Column                Non-Null Count   Dtype   \n",
      "---  ------                --------------   -----   \n",
      " 0   author                534935 non-null  object  \n",
      " 1   clean_title           563613 non-null  object  \n",
      " 2   created_utc           563613 non-null  float64 \n",
      " 3   domain                396142 non-null  object  \n",
      " 4   hasImage              563613 non-null  bool    \n",
      " 5   id                    563613 non-null  object  \n",
      " 6   image_url             562079 non-null  object  \n",
      " 7   linked_submission_id  167471 non-null  object  \n",
      " 8   num_comments          396142 non-null  float64 \n",
      " 9   score                 563613 non-null  int64   \n",
      " 10  subreddit             563613 non-null  object  \n",
      " 11  title                 563613 non-null  object  \n",
      " 12  upvote_ratio          396142 non-null  float64 \n",
      " 13  2_way_label           563613 non-null  category\n",
      " 14  3_way_label           563613 non-null  category\n",
      " 15  6_way_label           563613 non-null  category\n",
      "dtypes: bool(1), category(3), float64(3), int64(1), object(8)\n",
      "memory usage: 53.8+ MB\n"
     ]
    }
   ],
   "source": [
    "for df in [test_df, train_df, validate_df]:\n",
    "    for col in ['2_way_label', '3_way_label', '6_way_label']:\n",
    "        df[col] = df[col].astype('category').cat.as_ordered()\n",
    "        \n",
    "train_df.info(verbose=True)"
   ]
  },
  {
   "cell_type": "markdown",
   "metadata": {},
   "source": [
    "## Plot distribution of labels"
   ]
  },
  {
   "cell_type": "code",
   "execution_count": 4,
   "metadata": {},
   "outputs": [
    {
     "data": {
      "image/png": "[encoded data removed]",
      "text/plain": [
       "<Figure size 1080x360 with 3 Axes>"
      ]
     },
     "metadata": {
      "needs_background": "light"
     },
     "output_type": "display_data"
    }
   ],
   "source": [
    "fig, (ax1, ax2, ax3) = plt.subplots(ncols=3, sharey=True, figsize=(15,5))\n",
    "\n",
    "g0 = sns.countplot(data=train_df, x=\"2_way_label\", ax=ax1)\n",
    "g1 = sns.countplot(data=train_df, x=\"3_way_label\", ax=ax2)\n",
    "g2 = sns.countplot(data=train_df, x=\"6_way_label\", ax=ax3)\n",
    "\n",
    "g1.set(ylabel=None)\n",
    "g2.set(ylabel=None)\n",
    "\n",
    "plt.show();"
   ]
  },
  {
   "cell_type": "markdown",
   "metadata": {},
   "source": [
    "# Image Analysis"
   ]
  },
  {
   "cell_type": "code",
   "execution_count": 5,
   "metadata": {},
   "outputs": [],
   "source": [
    "frames = [train_df, train_df, train_df]\n",
    "total_df = pd.concat(frames)"
   ]
  },
  {
   "cell_type": "markdown",
   "metadata": {},
   "source": [
    "### Image sizes"
   ]
  },
  {
   "cell_type": "code",
   "execution_count": 6,
   "metadata": {},
   "outputs": [
    {
     "name": "stderr",
     "output_type": "stream",
     "text": [
      "C:\\Users\\maart\\AppData\\Roaming\\Python\\Python38\\site-packages\\tqdm\\std.py:706: FutureWarning: The Panel class is removed from pandas. Accessing it from the top-level namespace will also be removed in the next version\n",
      "  from pandas import Panel\n",
      "progress bar:   8%|████▍                                                    | 131677/1690839 [01:24<16:16, 1596.43it/s]C:\\Users\\maart\\AppData\\Roaming\\Python\\Python38\\site-packages\\PIL\\Image.py:2832: DecompressionBombWarning: Image size (110718270 pixels) exceeds limit of 89478485 pixels, could be decompression bomb DOS attack.\n",
      "  warnings.warn(\n",
      "progress bar:  12%|███████▏                                                  | 209301/1690839 [02:23<35:47, 689.76it/s]C:\\Users\\maart\\AppData\\Roaming\\Python\\Python38\\site-packages\\PIL\\TiffImagePlugin.py:785: UserWarning: Corrupt EXIF data.  Expecting to read 2 bytes but only got 0. \n",
      "  warnings.warn(str(msg))\n",
      "progress bar:  21%|████████████▍                                             | 361546/1690839 [05:22<25:50, 857.12it/s]C:\\Users\\maart\\AppData\\Roaming\\Python\\Python38\\site-packages\\PIL\\Image.py:2832: DecompressionBombWarning: Image size (154995913 pixels) exceeds limit of 89478485 pixels, could be decompression bomb DOS attack.\n",
      "  warnings.warn(\n",
      "progress bar: 100%|█████████████████████████████████████████████████████████| 1690839/1690839 [30:50<00:00, 913.80it/s]\n"
     ]
    }
   ],
   "source": [
    "tqdm.pandas(desc=\"progress bar\")\n",
    "\n",
    "def get_sizes(row):\n",
    "    width = None\n",
    "    height = None\n",
    "    img_path = Path(dataset_images_path, f'{row.id}.jpg')\n",
    "    \n",
    "    with Image.open(img_path) as img:\n",
    "        width, height = img.size\n",
    "\n",
    "    return pd.Series([width, height], index=['img_width', 'img_height'])\n",
    "\n",
    "x = total_df.progress_apply(get_sizes, axis=1)"
   ]
  },
  {
   "cell_type": "code",
   "execution_count": 20,
   "metadata": {},
   "outputs": [
    {
     "data": {
      "text/html": [
       "<div>\n",
       "<style scoped>\n",
       "    .dataframe tbody tr th:only-of-type {\n",
       "        vertical-align: middle;\n",
       "    }\n",
       "\n",
       "    .dataframe tbody tr th {\n",
       "        vertical-align: top;\n",
       "    }\n",
       "\n",
       "    .dataframe thead th {\n",
       "        text-align: right;\n",
       "    }\n",
       "</style>\n",
       "<table border=\"1\" class=\"dataframe\">\n",
       "  <thead>\n",
       "    <tr style=\"text-align: right;\">\n",
       "      <th></th>\n",
       "      <th>img_width</th>\n",
       "      <th>img_height</th>\n",
       "    </tr>\n",
       "  </thead>\n",
       "  <tbody>\n",
       "    <tr>\n",
       "      <th>count</th>\n",
       "      <td>1,690,839.00</td>\n",
       "      <td>1,690,839.00</td>\n",
       "    </tr>\n",
       "    <tr>\n",
       "      <th>mean</th>\n",
       "      <td>586.53</td>\n",
       "      <td>511.23</td>\n",
       "    </tr>\n",
       "    <tr>\n",
       "      <th>std</th>\n",
       "      <td>603.64</td>\n",
       "      <td>496.06</td>\n",
       "    </tr>\n",
       "    <tr>\n",
       "      <th>min</th>\n",
       "      <td>1.00</td>\n",
       "      <td>1.00</td>\n",
       "    </tr>\n",
       "    <tr>\n",
       "      <th>25%</th>\n",
       "      <td>320.00</td>\n",
       "      <td>216.00</td>\n",
       "    </tr>\n",
       "    <tr>\n",
       "      <th>50%</th>\n",
       "      <td>320.00</td>\n",
       "      <td>399.00</td>\n",
       "    </tr>\n",
       "    <tr>\n",
       "      <th>75%</th>\n",
       "      <td>600.00</td>\n",
       "      <td>569.00</td>\n",
       "    </tr>\n",
       "    <tr>\n",
       "      <th>max</th>\n",
       "      <td>15,251.00</td>\n",
       "      <td>23,040.00</td>\n",
       "    </tr>\n",
       "  </tbody>\n",
       "</table>\n",
       "</div>"
      ],
      "text/plain": [
       "                 img_width           img_height\n",
       "count         1,690,839.00         1,690,839.00\n",
       "mean                586.53               511.23\n",
       "std                 603.64               496.06\n",
       "min                   1.00                 1.00\n",
       "25%                 320.00               216.00\n",
       "50%                 320.00               399.00\n",
       "75%                 600.00               569.00\n",
       "max              15,251.00            23,040.00"
      ]
     },
     "execution_count": 20,
     "metadata": {},
     "output_type": "execute_result"
    }
   ],
   "source": [
    "x.describe()"
   ]
  }
 ],
 "metadata": {
  "kernelspec": {
   "display_name": "Python 3",
   "language": "python",
   "name": "python3"
  },
  "language_info": {
   "codemirror_mode": {
    "name": "ipython",
    "version": 3
   },
   "file_extension": ".py",
   "mimetype": "text/x-python",
   "name": "python",
   "nbconvert_exporter": "python",
   "pygments_lexer": "ipython3",
   "version": "3.8.5"
  }
 },
 "nbformat": 4,
 "nbformat_minor": 4
}
